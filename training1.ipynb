{
  "nbformat": 4,
  "nbformat_minor": 0,
  "metadata": {
    "kernelspec": {
      "display_name": "Python 3",
      "language": "python",
      "name": "python3"
    },
    "language_info": {
      "codemirror_mode": {
        "name": "ipython",
        "version": 2
      },
      "file_extension": ".py",
      "mimetype": "text/x-python",
      "name": "python",
      "nbconvert_exporter": "python",
      "pygments_lexer": "ipython2",
      "version": "2.7.6"
    },
    "colab": {
      "name": "Copy of training.ipynb",
      "provenance": [],
      "toc_visible": true,
      "include_colab_link": true
    },
    "accelerator": "TPU"
  },
  "cells": [
    {
      "cell_type": "markdown",
      "metadata": {
        "id": "view-in-github",
        "colab_type": "text"
      },
      "source": [
        "<a href=\"https://colab.research.google.com/github/miriyungreis/Client_Server_Communication/blob/master/training1.ipynb\" target=\"_parent\"><img src=\"https://colab.research.google.com/assets/colab-badge.svg\" alt=\"Open In Colab\"/></a>"
      ]
    },
    {
      "cell_type": "markdown",
      "metadata": {
        "id": "khoTLt1up3iZ"
      },
      "source": [
        "# Introduction\n",
        "we are going to do a something of a painmnter monet, yes we are! dont you worry baby\n",
        "\n",
        "\n",
        "references:\n",
        "\n",
        "notebooks:  \n",
        "https://www.kaggle.com/amyjang/monet-cyclegan-tutorial - tuturial notebook  \n",
        "https://www.kaggle.com/unfriendlyai/cyclegan-with-dg-pretraining - used the help to create fid\n",
        "\n",
        "\n"
      ]
    },
    {
      "cell_type": "markdown",
      "metadata": {
        "id": "VGkDdU3dp_jh"
      },
      "source": [
        "# Installations & Imports\n",
        "here we will prepare everything"
      ]
    },
    {
      "cell_type": "markdown",
      "metadata": {
        "id": "62oqs_EPF6Oq"
      },
      "source": [
        "#### Installations"
      ]
    },
    {
      "cell_type": "code",
      "metadata": {
        "id": "r5xxD9FlF4V5",
        "colab": {
          "base_uri": "https://localhost:8080/"
        },
        "outputId": "566e356b-f682-4dcb-d48d-5805d9517a3d"
      },
      "source": [
        "!pip install -q kaggle\n",
        "!pip install --upgrade --force-reinstall --no-deps kaggle\n",
        "!pip install tensorflow_addons"
      ],
      "execution_count": null,
      "outputs": [
        {
          "output_type": "stream",
          "text": [
            "Collecting kaggle\n",
            "  Downloading kaggle-1.5.12.tar.gz (58 kB)\n",
            "\u001b[?25l\r\u001b[K     |█████▋                          | 10 kB 23.5 MB/s eta 0:00:01\r\u001b[K     |███████████▏                    | 20 kB 30.0 MB/s eta 0:00:01\r\u001b[K     |████████████████▊               | 30 kB 14.6 MB/s eta 0:00:01\r\u001b[K     |██████████████████████▎         | 40 kB 10.3 MB/s eta 0:00:01\r\u001b[K     |███████████████████████████▉    | 51 kB 5.5 MB/s eta 0:00:01\r\u001b[K     |████████████████████████████████| 58 kB 2.8 MB/s \n",
            "\u001b[?25hBuilding wheels for collected packages: kaggle\n",
            "  Building wheel for kaggle (setup.py) ... \u001b[?25l\u001b[?25hdone\n",
            "  Created wheel for kaggle: filename=kaggle-1.5.12-py3-none-any.whl size=73052 sha256=976508ee32277de6b2fa89c04d16a57f97b524ab03a50d2da137e8ccb9f04ca9\n",
            "  Stored in directory: /root/.cache/pip/wheels/62/d6/58/5853130f941e75b2177d281eb7e44b4a98ed46dd155f556dc5\n",
            "Successfully built kaggle\n",
            "Installing collected packages: kaggle\n",
            "  Attempting uninstall: kaggle\n",
            "    Found existing installation: kaggle 1.5.12\n",
            "    Uninstalling kaggle-1.5.12:\n",
            "      Successfully uninstalled kaggle-1.5.12\n",
            "Successfully installed kaggle-1.5.12\n",
            "Collecting tensorflow_addons\n",
            "  Downloading tensorflow_addons-0.13.0-cp37-cp37m-manylinux2010_x86_64.whl (679 kB)\n",
            "\u001b[K     |████████████████████████████████| 679 kB 5.3 MB/s \n",
            "\u001b[?25hRequirement already satisfied: typeguard>=2.7 in /usr/local/lib/python3.7/dist-packages (from tensorflow_addons) (2.7.1)\n",
            "Installing collected packages: tensorflow-addons\n",
            "Successfully installed tensorflow-addons-0.13.0\n"
          ],
          "name": "stdout"
        }
      ]
    },
    {
      "cell_type": "markdown",
      "metadata": {
        "id": "BGLrf8KUl09C"
      },
      "source": [
        "#### Imports"
      ]
    },
    {
      "cell_type": "code",
      "metadata": {
        "collapsed": true,
        "id": "FInWELmlNP4m"
      },
      "source": [
        "import tensorflow as tf\n",
        "from tensorflow import keras\n",
        "from tensorflow.keras import layers\n",
        "import tensorflow_addons as tfa\n",
        "from google.colab import files\n",
        "import PIL\n",
        "import shutil\n",
        "\n",
        "\n",
        "import matplotlib.pyplot as plt\n",
        "import numpy as np"
      ],
      "execution_count": null,
      "outputs": []
    },
    {
      "cell_type": "markdown",
      "metadata": {
        "id": "3uU4D-IsS3he"
      },
      "source": [
        "#### TPU Initialization"
      ]
    },
    {
      "cell_type": "code",
      "metadata": {
        "id": "9BkD2LwHl4SA",
        "colab": {
          "base_uri": "https://localhost:8080/"
        },
        "outputId": "c2165047-4576-4efb-871d-95e70ad01256"
      },
      "source": [
        "try:\n",
        "    tpu = tf.distribute.cluster_resolver.TPUClusterResolver()\n",
        "    print('Device:', tpu.master())\n",
        "    tf.config.experimental_connect_to_cluster(tpu)\n",
        "    tf.tpu.experimental.initialize_tpu_system(tpu)\n",
        "    strategy = tf.distribute.experimental.TPUStrategy(tpu)\n",
        "except:\n",
        "    strategy = tf.distribute.get_strategy()\n",
        "print('Number of replicas:', strategy.num_replicas_in_sync)\n",
        "\n",
        "AUTOTUNE = tf.data.experimental.AUTOTUNE\n",
        "    \n",
        "print(tf.__version__)"
      ],
      "execution_count": null,
      "outputs": [
        {
          "output_type": "stream",
          "text": [
            "Device: grpc://10.36.62.170:8470\n",
            "INFO:tensorflow:Initializing the TPU system: grpc://10.36.62.170:8470\n"
          ],
          "name": "stdout"
        },
        {
          "output_type": "stream",
          "text": [
            "INFO:tensorflow:Initializing the TPU system: grpc://10.36.62.170:8470\n"
          ],
          "name": "stderr"
        },
        {
          "output_type": "stream",
          "text": [
            "INFO:tensorflow:Clearing out eager caches\n"
          ],
          "name": "stdout"
        },
        {
          "output_type": "stream",
          "text": [
            "INFO:tensorflow:Clearing out eager caches\n"
          ],
          "name": "stderr"
        },
        {
          "output_type": "stream",
          "text": [
            "INFO:tensorflow:Finished initializing TPU system.\n"
          ],
          "name": "stdout"
        },
        {
          "output_type": "stream",
          "text": [
            "INFO:tensorflow:Finished initializing TPU system.\n",
            "WARNING:absl:`tf.distribute.experimental.TPUStrategy` is deprecated, please use  the non experimental symbol `tf.distribute.TPUStrategy` instead.\n"
          ],
          "name": "stderr"
        },
        {
          "output_type": "stream",
          "text": [
            "INFO:tensorflow:Found TPU system:\n"
          ],
          "name": "stdout"
        },
        {
          "output_type": "stream",
          "text": [
            "INFO:tensorflow:Found TPU system:\n"
          ],
          "name": "stderr"
        },
        {
          "output_type": "stream",
          "text": [
            "INFO:tensorflow:*** Num TPU Cores: 8\n"
          ],
          "name": "stdout"
        },
        {
          "output_type": "stream",
          "text": [
            "INFO:tensorflow:*** Num TPU Cores: 8\n"
          ],
          "name": "stderr"
        },
        {
          "output_type": "stream",
          "text": [
            "INFO:tensorflow:*** Num TPU Workers: 1\n"
          ],
          "name": "stdout"
        },
        {
          "output_type": "stream",
          "text": [
            "INFO:tensorflow:*** Num TPU Workers: 1\n"
          ],
          "name": "stderr"
        },
        {
          "output_type": "stream",
          "text": [
            "INFO:tensorflow:*** Num TPU Cores Per Worker: 8\n"
          ],
          "name": "stdout"
        },
        {
          "output_type": "stream",
          "text": [
            "INFO:tensorflow:*** Num TPU Cores Per Worker: 8\n"
          ],
          "name": "stderr"
        },
        {
          "output_type": "stream",
          "text": [
            "INFO:tensorflow:*** Available Device: _DeviceAttributes(/job:localhost/replica:0/task:0/device:CPU:0, CPU, 0, 0)\n"
          ],
          "name": "stdout"
        },
        {
          "output_type": "stream",
          "text": [
            "INFO:tensorflow:*** Available Device: _DeviceAttributes(/job:localhost/replica:0/task:0/device:CPU:0, CPU, 0, 0)\n"
          ],
          "name": "stderr"
        },
        {
          "output_type": "stream",
          "text": [
            "INFO:tensorflow:*** Available Device: _DeviceAttributes(/job:worker/replica:0/task:0/device:CPU:0, CPU, 0, 0)\n"
          ],
          "name": "stdout"
        },
        {
          "output_type": "stream",
          "text": [
            "INFO:tensorflow:*** Available Device: _DeviceAttributes(/job:worker/replica:0/task:0/device:CPU:0, CPU, 0, 0)\n"
          ],
          "name": "stderr"
        },
        {
          "output_type": "stream",
          "text": [
            "INFO:tensorflow:*** Available Device: _DeviceAttributes(/job:worker/replica:0/task:0/device:TPU:0, TPU, 0, 0)\n"
          ],
          "name": "stdout"
        },
        {
          "output_type": "stream",
          "text": [
            "INFO:tensorflow:*** Available Device: _DeviceAttributes(/job:worker/replica:0/task:0/device:TPU:0, TPU, 0, 0)\n"
          ],
          "name": "stderr"
        },
        {
          "output_type": "stream",
          "text": [
            "INFO:tensorflow:*** Available Device: _DeviceAttributes(/job:worker/replica:0/task:0/device:TPU:1, TPU, 0, 0)\n"
          ],
          "name": "stdout"
        },
        {
          "output_type": "stream",
          "text": [
            "INFO:tensorflow:*** Available Device: _DeviceAttributes(/job:worker/replica:0/task:0/device:TPU:1, TPU, 0, 0)\n"
          ],
          "name": "stderr"
        },
        {
          "output_type": "stream",
          "text": [
            "INFO:tensorflow:*** Available Device: _DeviceAttributes(/job:worker/replica:0/task:0/device:TPU:2, TPU, 0, 0)\n"
          ],
          "name": "stdout"
        },
        {
          "output_type": "stream",
          "text": [
            "INFO:tensorflow:*** Available Device: _DeviceAttributes(/job:worker/replica:0/task:0/device:TPU:2, TPU, 0, 0)\n"
          ],
          "name": "stderr"
        },
        {
          "output_type": "stream",
          "text": [
            "INFO:tensorflow:*** Available Device: _DeviceAttributes(/job:worker/replica:0/task:0/device:TPU:3, TPU, 0, 0)\n"
          ],
          "name": "stdout"
        },
        {
          "output_type": "stream",
          "text": [
            "INFO:tensorflow:*** Available Device: _DeviceAttributes(/job:worker/replica:0/task:0/device:TPU:3, TPU, 0, 0)\n"
          ],
          "name": "stderr"
        },
        {
          "output_type": "stream",
          "text": [
            "INFO:tensorflow:*** Available Device: _DeviceAttributes(/job:worker/replica:0/task:0/device:TPU:4, TPU, 0, 0)\n"
          ],
          "name": "stdout"
        },
        {
          "output_type": "stream",
          "text": [
            "INFO:tensorflow:*** Available Device: _DeviceAttributes(/job:worker/replica:0/task:0/device:TPU:4, TPU, 0, 0)\n"
          ],
          "name": "stderr"
        },
        {
          "output_type": "stream",
          "text": [
            "INFO:tensorflow:*** Available Device: _DeviceAttributes(/job:worker/replica:0/task:0/device:TPU:5, TPU, 0, 0)\n"
          ],
          "name": "stdout"
        },
        {
          "output_type": "stream",
          "text": [
            "INFO:tensorflow:*** Available Device: _DeviceAttributes(/job:worker/replica:0/task:0/device:TPU:5, TPU, 0, 0)\n"
          ],
          "name": "stderr"
        },
        {
          "output_type": "stream",
          "text": [
            "INFO:tensorflow:*** Available Device: _DeviceAttributes(/job:worker/replica:0/task:0/device:TPU:6, TPU, 0, 0)\n"
          ],
          "name": "stdout"
        },
        {
          "output_type": "stream",
          "text": [
            "INFO:tensorflow:*** Available Device: _DeviceAttributes(/job:worker/replica:0/task:0/device:TPU:6, TPU, 0, 0)\n"
          ],
          "name": "stderr"
        },
        {
          "output_type": "stream",
          "text": [
            "INFO:tensorflow:*** Available Device: _DeviceAttributes(/job:worker/replica:0/task:0/device:TPU:7, TPU, 0, 0)\n"
          ],
          "name": "stdout"
        },
        {
          "output_type": "stream",
          "text": [
            "INFO:tensorflow:*** Available Device: _DeviceAttributes(/job:worker/replica:0/task:0/device:TPU:7, TPU, 0, 0)\n"
          ],
          "name": "stderr"
        },
        {
          "output_type": "stream",
          "text": [
            "INFO:tensorflow:*** Available Device: _DeviceAttributes(/job:worker/replica:0/task:0/device:TPU_SYSTEM:0, TPU_SYSTEM, 0, 0)\n"
          ],
          "name": "stdout"
        },
        {
          "output_type": "stream",
          "text": [
            "INFO:tensorflow:*** Available Device: _DeviceAttributes(/job:worker/replica:0/task:0/device:TPU_SYSTEM:0, TPU_SYSTEM, 0, 0)\n"
          ],
          "name": "stderr"
        },
        {
          "output_type": "stream",
          "text": [
            "INFO:tensorflow:*** Available Device: _DeviceAttributes(/job:worker/replica:0/task:0/device:XLA_CPU:0, XLA_CPU, 0, 0)\n"
          ],
          "name": "stdout"
        },
        {
          "output_type": "stream",
          "text": [
            "INFO:tensorflow:*** Available Device: _DeviceAttributes(/job:worker/replica:0/task:0/device:XLA_CPU:0, XLA_CPU, 0, 0)\n"
          ],
          "name": "stderr"
        },
        {
          "output_type": "stream",
          "text": [
            "Number of replicas: 8\n",
            "2.5.0\n"
          ],
          "name": "stdout"
        }
      ]
    },
    {
      "cell_type": "markdown",
      "metadata": {
        "id": "diDtfgE9ZfDV"
      },
      "source": [
        "# Data Base"
      ]
    },
    {
      "cell_type": "markdown",
      "metadata": {
        "id": "DRpBPC_UHp6N"
      },
      "source": [
        "#### Data Path And Filenames Preperations"
      ]
    },
    {
      "cell_type": "code",
      "metadata": {
        "id": "HgbAWdo_ImJw"
      },
      "source": [
        "GCS_PATH = 'gs://kds-fe07dc19ed486a7fdc7d0a06e0362b4db01fa035a6c107442b99a8f2'\n",
        "MONET_FILENAMES = tf.io.gfile.glob(str(GCS_PATH + '/monet_tfrec/monet*.tfrec'))\n",
        "PHOTO_FILENAMES = tf.io.gfile.glob(str(GCS_PATH + '/photo_tfrec/photo*.tfrec'))"
      ],
      "execution_count": null,
      "outputs": []
    },
    {
      "cell_type": "code",
      "metadata": {
        "colab": {
          "base_uri": "https://localhost:8080/"
        },
        "id": "Eud-bh3OHGqb",
        "outputId": "3dd60038-29e7-4b6f-e28f-4915a3e89aa8"
      },
      "source": [
        "MONET_FILENAMES = tf.io.gfile.glob(str(GCS_PATH + '/monet_tfrec/*.tfrec'))\n",
        "print('Monet TFRecord Files:', len(MONET_FILENAMES))\n",
        "\n",
        "PHOTO_FILENAMES = tf.io.gfile.glob(str(GCS_PATH + '/photo_tfrec/*.tfrec'))\n",
        "print('Photo TFRecord Files:', len(PHOTO_FILENAMES))"
      ],
      "execution_count": null,
      "outputs": [
        {
          "output_type": "stream",
          "text": [
            "Monet TFRecord Files: 5\n",
            "Photo TFRecord Files: 20\n"
          ],
          "name": "stdout"
        }
      ]
    },
    {
      "cell_type": "markdown",
      "metadata": {
        "id": "O_QCbobXL0OY"
      },
      "source": [
        "#### Define Handling Images"
      ]
    },
    {
      "cell_type": "code",
      "metadata": {
        "id": "zKdoAGOPHvyt"
      },
      "source": [
        "IMAGE_SIZE = [256, 256]\n",
        "\n",
        "def decode_image(image):\n",
        "    image = tf.image.decode_jpeg(image, channels=3)\n",
        "    image = (tf.cast(image, tf.float32) / 127.5) - 1\n",
        "    image = tf.reshape(image, [*IMAGE_SIZE, 3])\n",
        "    return image\n",
        "\n",
        "def read_tfrecord(example):\n",
        "    tfrecord_format = {\n",
        "        \"image_name\": tf.io.FixedLenFeature([], tf.string),\n",
        "        \"image\": tf.io.FixedLenFeature([], tf.string),\n",
        "        \"target\": tf.io.FixedLenFeature([], tf.string)\n",
        "    }\n",
        "    example = tf.io.parse_single_example(example, tfrecord_format)\n",
        "    image = decode_image(example['image'])\n",
        "    return image"
      ],
      "execution_count": null,
      "outputs": []
    },
    {
      "cell_type": "markdown",
      "metadata": {
        "id": "ljQAkOcPLuTG"
      },
      "source": [
        "#### Define Load Data Set Function"
      ]
    },
    {
      "cell_type": "code",
      "metadata": {
        "id": "OMs3-TEmH2of"
      },
      "source": [
        "def load_dataset(filenames, labeled=True, ordered=False):\n",
        "    dataset = tf.data.TFRecordDataset(filenames)\n",
        "    dataset = dataset.map(read_tfrecord, num_parallel_calls=AUTOTUNE)\n",
        "    return dataset"
      ],
      "execution_count": null,
      "outputs": []
    },
    {
      "cell_type": "markdown",
      "metadata": {
        "id": "8IsOYhxXLgzc"
      },
      "source": [
        "#### Load Data Sets For Model CycleGan\n"
      ]
    },
    {
      "cell_type": "code",
      "metadata": {
        "id": "CiXsq8m0H27b"
      },
      "source": [
        "monet_ds = load_dataset(MONET_FILENAMES, labeled=True).batch(1)\n",
        "photo_ds = load_dataset(PHOTO_FILENAMES, labeled=True).batch(1)"
      ],
      "execution_count": null,
      "outputs": []
    },
    {
      "cell_type": "markdown",
      "metadata": {
        "id": "dJETcdXqLc4O"
      },
      "source": [
        "#### Load Data Sets For FID"
      ]
    },
    {
      "cell_type": "code",
      "metadata": {
        "id": "mopauyzALcmb"
      },
      "source": [
        "fid_photo_ds = load_dataset(PHOTO_FILENAMES).take(1024).batch(32*strategy.num_replicas_in_sync).prefetch(32)\n",
        "fid_monet_ds = load_dataset(MONET_FILENAMES).batch(32*strategy.num_replicas_in_sync).prefetch(32)"
      ],
      "execution_count": null,
      "outputs": []
    },
    {
      "cell_type": "markdown",
      "metadata": {
        "id": "qSKvJChjGvRE"
      },
      "source": [
        "#### Showing A Taste Of The Data"
      ]
    },
    {
      "cell_type": "code",
      "metadata": {
        "colab": {
          "base_uri": "https://localhost:8080/"
        },
        "id": "CT0isXnwH3bE",
        "outputId": "86fbc958-e006-4900-c6aa-459ab4466119"
      },
      "source": [
        "monet_ds_iter = iter(monet_ds)\n",
        "photo_ds_iter = iter(photo_ds)\n",
        "\n",
        "example_monet = next(iter(monet_ds))\n",
        "example_photo = next(iter(photo_ds))\n",
        "\n",
        "plt.subplot(121)\n",
        "plt.title('Photo')\n",
        "plt.imshow(example_photo[0] * 0.5 + 0.5)\n",
        "\n",
        "plt.subplot(122)\n",
        "plt.title('Monet')\n",
        "plt.imshow(example_monet[0] * 0.5 + 0.5)"
      ],
      "execution_count": null,
      "outputs": [
        {
          "output_type": "execute_result",
          "data": {
            "text/plain": [
              "<matplotlib.image.AxesImage at 0x7f0eaaa927d0>"
            ]
          },
          "metadata": {
            "tags": []
          },
          "execution_count": 10
        },
        {
          "output_type": "display_data",
          "data": {
            "image/png": "[encoded data removed]",
            "text/plain": [
              "<Figure size 432x288 with 2 Axes>"
            ]
          },
          "metadata": {
            "tags": [],
            "needs_background": "light"
          }
        }
      ]
    },
    {
      "cell_type": "markdown",
      "metadata": {
        "id": "nXmhSD6fp32H"
      },
      "source": [
        "# Building A CycleGan Model\n",
        "need to understand what it is"
      ]
    },
    {
      "cell_type": "markdown",
      "metadata": {
        "id": "7flQQ83nl4p7"
      },
      "source": [
        "#### Generator"
      ]
    },
    {
      "cell_type": "code",
      "metadata": {
        "id": "WkPYV1bVl49W"
      },
      "source": [
        "OUTPUT_CHANNELS = 3\n",
        "\n",
        "def downsample(filters, size, apply_instancenorm=True):\n",
        "    initializer = tf.random_normal_initializer(0., 0.02)\n",
        "    gamma_init = keras.initializers.RandomNormal(mean=0.0, stddev=0.02)\n",
        "\n",
        "    result = keras.Sequential()\n",
        "    result.add(layers.Conv2D(filters, size, strides=2, padding='same',\n",
        "                             kernel_initializer=initializer, use_bias=False))\n",
        "\n",
        "    if apply_instancenorm:\n",
        "        result.add(tfa.layers.InstanceNormalization(gamma_initializer=gamma_init))\n",
        "\n",
        "    result.add(layers.LeakyReLU())\n",
        "\n",
        "    return result"
      ],
      "execution_count": null,
      "outputs": []
    },
    {
      "cell_type": "code",
      "metadata": {
        "id": "OKHv93RvMSV9"
      },
      "source": [
        "def upsample(filters, size, apply_dropout=False):\n",
        "    initializer = tf.random_normal_initializer(0., 0.02)\n",
        "    gamma_init = keras.initializers.RandomNormal(mean=0.0, stddev=0.02)\n",
        "\n",
        "    result = keras.Sequential()\n",
        "    result.add(layers.Conv2DTranspose(filters, size, strides=2,\n",
        "                                      padding='same',\n",
        "                                      kernel_initializer=initializer,\n",
        "                                      use_bias=False))\n",
        "\n",
        "    result.add(tfa.layers.InstanceNormalization(gamma_initializer=gamma_init))\n",
        "\n",
        "    if apply_dropout:\n",
        "        result.add(layers.Dropout(0.5))\n",
        "\n",
        "    result.add(layers.ReLU())\n",
        "\n",
        "    return result"
      ],
      "execution_count": null,
      "outputs": []
    },
    {
      "cell_type": "code",
      "metadata": {
        "id": "yKOphzZJMU9z"
      },
      "source": [
        "def Generator():\n",
        "    inputs = layers.Input(shape=[256,256,3])\n",
        "\n",
        "    # bs = batch size\n",
        "    down_stack = [\n",
        "        downsample(64, 4, apply_instancenorm=False), # (bs, 128, 128, 64)\n",
        "        downsample(128, 4), # (bs, 64, 64, 128)\n",
        "        downsample(256, 4), # (bs, 32, 32, 256)\n",
        "        downsample(512, 4), # (bs, 16, 16, 512)\n",
        "        downsample(512, 4), # (bs, 8, 8, 512)\n",
        "        downsample(512, 4), # (bs, 4, 4, 512)\n",
        "        downsample(512, 4), # (bs, 2, 2, 512)\n",
        "        downsample(512, 4), # (bs, 1, 1, 512)\n",
        "    ]\n",
        "\n",
        "    up_stack = [\n",
        "        upsample(512, 4, apply_dropout=True), # (bs, 2, 2, 1024)\n",
        "        upsample(512, 4, apply_dropout=True), # (bs, 4, 4, 1024)\n",
        "        upsample(512, 4, apply_dropout=True), # (bs, 8, 8, 1024)\n",
        "        upsample(512, 4), # (bs, 16, 16, 1024)\n",
        "        upsample(256, 4), # (bs, 32, 32, 512)\n",
        "        upsample(128, 4), # (bs, 64, 64, 256)\n",
        "        upsample(64, 4), # (bs, 128, 128, 128)\n",
        "    ]\n",
        "\n",
        "    initializer = tf.random_normal_initializer(0., 0.02)\n",
        "    last = layers.Conv2DTranspose(OUTPUT_CHANNELS, 4,\n",
        "                                  strides=2,\n",
        "                                  padding='same',\n",
        "                                  kernel_initializer=initializer,\n",
        "                                  activation='tanh') # (bs, 256, 256, 3)\n",
        "\n",
        "    x = inputs\n",
        "\n",
        "    # Downsampling through the model\n",
        "    skips = []\n",
        "    for down in down_stack:\n",
        "        x = down(x)\n",
        "        skips.append(x)\n",
        "\n",
        "    skips = reversed(skips[:-1])\n",
        "\n",
        "    # Upsampling and establishing the skip connections\n",
        "    for up, skip in zip(up_stack, skips):\n",
        "        x = up(x)\n",
        "        x = layers.Concatenate()([x, skip])\n",
        "\n",
        "    x = last(x)\n",
        "\n",
        "    return keras.Model(inputs=inputs, outputs=x)"
      ],
      "execution_count": null,
      "outputs": []
    },
    {
      "cell_type": "markdown",
      "metadata": {
        "id": "qT8KzunTl5aJ"
      },
      "source": [
        "#### Discriminator"
      ]
    },
    {
      "cell_type": "code",
      "metadata": {
        "id": "iLW7Szp9l5sh"
      },
      "source": [
        "def Discriminator():\n",
        "    initializer = tf.random_normal_initializer(0., 0.02)\n",
        "    gamma_init = keras.initializers.RandomNormal(mean=0.0, stddev=0.02)\n",
        "\n",
        "    inp = layers.Input(shape=[256, 256, 3], name='input_image')\n",
        "\n",
        "    x = inp\n",
        "\n",
        "    down1 = downsample(64, 4, False)(x) # (bs, 128, 128, 64)\n",
        "    down2 = downsample(128, 4)(down1) # (bs, 64, 64, 128)\n",
        "    down3 = downsample(256, 4)(down2) # (bs, 32, 32, 256)\n",
        "\n",
        "    zero_pad1 = layers.ZeroPadding2D()(down3) # (bs, 34, 34, 256)\n",
        "    conv = layers.Conv2D(512, 4, strides=1,\n",
        "                         kernel_initializer=initializer,\n",
        "                         use_bias=False)(zero_pad1) # (bs, 31, 31, 512)\n",
        "\n",
        "    norm1 = tfa.layers.InstanceNormalization(gamma_initializer=gamma_init)(conv)\n",
        "\n",
        "    leaky_relu = layers.LeakyReLU()(norm1)\n",
        "\n",
        "    zero_pad2 = layers.ZeroPadding2D()(leaky_relu) # (bs, 33, 33, 512)\n",
        "\n",
        "    last = layers.Conv2D(1, 4, strides=1,\n",
        "                         kernel_initializer=initializer)(zero_pad2) # (bs, 30, 30, 1)\n",
        "\n",
        "    return tf.keras.Model(inputs=inp, outputs=last)"
      ],
      "execution_count": null,
      "outputs": []
    },
    {
      "cell_type": "markdown",
      "metadata": {
        "id": "9qwAfyHnOi6j"
      },
      "source": [
        "#### Initialize Generators And Discriminators"
      ]
    },
    {
      "cell_type": "code",
      "metadata": {
        "id": "MCDrr4s_MaUn"
      },
      "source": [
        "\n",
        "with strategy.scope():\n",
        "    monet_generator = Generator() # transforms photos to Monet-esque paintings\n",
        "    photo_generator = Generator() # transforms Monet paintings to be more like photos\n",
        "\n",
        "    monet_discriminator = Discriminator() # differentiates real Monet paintings and generated Monet paintings\n",
        "    photo_discriminator = Discriminator() # differentiates real photos and generated photos"
      ],
      "execution_count": null,
      "outputs": []
    },
    {
      "cell_type": "code",
      "metadata": {
        "colab": {
          "base_uri": "https://localhost:8080/",
          "height": 216
        },
        "id": "Nqp1wLUWMgRJ",
        "outputId": "65650ca8-817c-4f64-dd29-908dfc6b83c0"
      },
      "source": [
        "to_monet = monet_generator(example_photo)\n",
        "\n",
        "plt.subplot(1, 2, 1)\n",
        "plt.title(\"Original Photo\")\n",
        "plt.imshow(example_photo[0] * 0.5 + 0.5)\n",
        "\n",
        "plt.subplot(1, 2, 2)\n",
        "plt.title(\"Monet-esque Photo\")\n",
        "plt.imshow(to_monet[0] * 0.5 + 0.5)\n",
        "plt.show()"
      ],
      "execution_count": null,
      "outputs": [
        {
          "output_type": "display_data",
          "data": {
            "image/png": "[encoded data removed]",
            "text/plain": [
              "<Figure size 432x288 with 2 Axes>"
            ]
          },
          "metadata": {
            "tags": [],
            "needs_background": "light"
          }
        }
      ]
    },
    {
      "cell_type": "markdown",
      "metadata": {
        "id": "9j34SYRrR3In"
      },
      "source": [
        "#### Define CycleGan Model"
      ]
    },
    {
      "cell_type": "code",
      "metadata": {
        "id": "rzanSe_CR26F"
      },
      "source": [
        "class CycleGan(keras.Model):\n",
        "    def __init__(\n",
        "        self,\n",
        "        monet_generator,\n",
        "        photo_generator,\n",
        "        monet_discriminator,\n",
        "        photo_discriminator,\n",
        "        lambda_cycle=10,\n",
        "    ):\n",
        "        super(CycleGan, self).__init__()\n",
        "        self.m_gen = monet_generator\n",
        "        self.p_gen = photo_generator\n",
        "        self.m_disc = monet_discriminator\n",
        "        self.p_disc = photo_discriminator\n",
        "        self.lambda_cycle = lambda_cycle\n",
        "        \n",
        "    def compile(\n",
        "        self,\n",
        "        m_gen_optimizer,\n",
        "        p_gen_optimizer,\n",
        "        m_disc_optimizer,\n",
        "        p_disc_optimizer,\n",
        "        gen_loss_fn,\n",
        "        disc_loss_fn,\n",
        "        cycle_loss_fn,\n",
        "        identity_loss_fn\n",
        "    ):\n",
        "        super(CycleGan, self).compile()\n",
        "        self.m_gen_optimizer = m_gen_optimizer\n",
        "        self.p_gen_optimizer = p_gen_optimizer\n",
        "        self.m_disc_optimizer = m_disc_optimizer\n",
        "        self.p_disc_optimizer = p_disc_optimizer\n",
        "        self.gen_loss_fn = gen_loss_fn\n",
        "        self.disc_loss_fn = disc_loss_fn\n",
        "        self.cycle_loss_fn = cycle_loss_fn\n",
        "        self.identity_loss_fn = identity_loss_fn\n",
        "        \n",
        "    def train_step(self, batch_data):\n",
        "        real_monet, real_photo = batch_data\n",
        "        \n",
        "        with tf.GradientTape(persistent=True) as tape:\n",
        "            # photo to monet back to photo\n",
        "            fake_monet = self.m_gen(real_photo, training=True)\n",
        "            cycled_photo = self.p_gen(fake_monet, training=True)\n",
        "\n",
        "            # monet to photo back to monet\n",
        "            fake_photo = self.p_gen(real_monet, training=True)\n",
        "            cycled_monet = self.m_gen(fake_photo, training=True)\n",
        "\n",
        "            # generating itself\n",
        "            same_monet = self.m_gen(real_monet, training=True)\n",
        "            same_photo = self.p_gen(real_photo, training=True)\n",
        "\n",
        "            # discriminator used to check, inputing real images\n",
        "            disc_real_monet = self.m_disc(real_monet, training=True)\n",
        "            disc_real_photo = self.p_disc(real_photo, training=True)\n",
        "\n",
        "            # discriminator used to check, inputing fake images\n",
        "            disc_fake_monet = self.m_disc(fake_monet, training=True)\n",
        "            disc_fake_photo = self.p_disc(fake_photo, training=True)\n",
        "\n",
        "            # evaluates generator loss\n",
        "            monet_gen_loss = self.gen_loss_fn(disc_fake_monet)\n",
        "            photo_gen_loss = self.gen_loss_fn(disc_fake_photo)\n",
        "\n",
        "            # evaluates total cycle consistency loss\n",
        "            total_cycle_loss = self.cycle_loss_fn(real_monet, cycled_monet, self.lambda_cycle) + self.cycle_loss_fn(real_photo, cycled_photo, self.lambda_cycle)\n",
        "\n",
        "            # evaluates total generator loss\n",
        "            total_monet_gen_loss = monet_gen_loss + total_cycle_loss + self.identity_loss_fn(real_monet, same_monet, self.lambda_cycle)\n",
        "            total_photo_gen_loss = photo_gen_loss + total_cycle_loss + self.identity_loss_fn(real_photo, same_photo, self.lambda_cycle)\n",
        "\n",
        "            # evaluates discriminator loss\n",
        "            monet_disc_loss = self.disc_loss_fn(disc_real_monet, disc_fake_monet)\n",
        "            photo_disc_loss = self.disc_loss_fn(disc_real_photo, disc_fake_photo)\n",
        "\n",
        "        # Calculate the gradients for generator and discriminator\n",
        "        monet_generator_gradients = tape.gradient(total_monet_gen_loss,\n",
        "                                                  self.m_gen.trainable_variables)\n",
        "        photo_generator_gradients = tape.gradient(total_photo_gen_loss,\n",
        "                                                  self.p_gen.trainable_variables)\n",
        "\n",
        "        monet_discriminator_gradients = tape.gradient(monet_disc_loss,\n",
        "                                                      self.m_disc.trainable_variables)\n",
        "        photo_discriminator_gradients = tape.gradient(photo_disc_loss,\n",
        "                                                      self.p_disc.trainable_variables)\n",
        "\n",
        "        # Apply the gradients to the optimizer\n",
        "        self.m_gen_optimizer.apply_gradients(zip(monet_generator_gradients,\n",
        "                                                 self.m_gen.trainable_variables))\n",
        "\n",
        "        self.p_gen_optimizer.apply_gradients(zip(photo_generator_gradients,\n",
        "                                                 self.p_gen.trainable_variables))\n",
        "\n",
        "        self.m_disc_optimizer.apply_gradients(zip(monet_discriminator_gradients,\n",
        "                                                  self.m_disc.trainable_variables))\n",
        "\n",
        "        self.p_disc_optimizer.apply_gradients(zip(photo_discriminator_gradients,\n",
        "                                                  self.p_disc.trainable_variables))\n",
        "        \n",
        "        return {\n",
        "            \"monet_gen_loss\": total_monet_gen_loss,\n",
        "            \"photo_gen_loss\": total_photo_gen_loss,\n",
        "            \"monet_disc_loss\": monet_disc_loss,\n",
        "            \"photo_disc_loss\": photo_disc_loss\n",
        "        }"
      ],
      "execution_count": null,
      "outputs": []
    },
    {
      "cell_type": "markdown",
      "metadata": {
        "id": "VshnTj93R9Nf"
      },
      "source": [
        "#### Loss"
      ]
    },
    {
      "cell_type": "code",
      "metadata": {
        "id": "82r951xjR893"
      },
      "source": [
        "with strategy.scope():\n",
        "    def discriminator_loss(real, generated):\n",
        "        real_loss = tf.keras.losses.BinaryCrossentropy(from_logits=True, reduction=tf.keras.losses.Reduction.NONE)(tf.ones_like(real), real)\n",
        "\n",
        "        generated_loss = tf.keras.losses.BinaryCrossentropy(from_logits=True, reduction=tf.keras.losses.Reduction.NONE)(tf.zeros_like(generated), generated)\n",
        "\n",
        "        total_disc_loss = real_loss + generated_loss\n",
        "\n",
        "        return total_disc_loss * 0.5"
      ],
      "execution_count": null,
      "outputs": []
    },
    {
      "cell_type": "code",
      "metadata": {
        "id": "IyfuY1VVSALa"
      },
      "source": [
        "with strategy.scope():\n",
        "    def generator_loss(generated):\n",
        "        return tf.keras.losses.BinaryCrossentropy(from_logits=True, reduction=tf.keras.losses.Reduction.NONE)(tf.ones_like(generated), generated)"
      ],
      "execution_count": null,
      "outputs": []
    },
    {
      "cell_type": "code",
      "metadata": {
        "id": "6U-bvCbgSBn4"
      },
      "source": [
        "with strategy.scope():\n",
        "    def calc_cycle_loss(real_image, cycled_image, LAMBDA):\n",
        "        loss1 = tf.reduce_mean(tf.abs(real_image - cycled_image))\n",
        "\n",
        "        return LAMBDA * loss1"
      ],
      "execution_count": null,
      "outputs": []
    },
    {
      "cell_type": "code",
      "metadata": {
        "id": "q7VlI1efSDLQ"
      },
      "source": [
        "with strategy.scope():\n",
        "    def identity_loss(real_image, same_image, LAMBDA):\n",
        "        loss = tf.reduce_mean(tf.abs(real_image - same_image))\n",
        "        return LAMBDA * 0.5 * loss"
      ],
      "execution_count": null,
      "outputs": []
    },
    {
      "cell_type": "markdown",
      "metadata": {
        "id": "_0TidpmQMfqD"
      },
      "source": [
        "#### FID - Frechet Distance"
      ]
    },
    {
      "cell_type": "code",
      "metadata": {
        "colab": {
          "base_uri": "https://localhost:8080/"
        },
        "id": "F4VWDV3DMBLE",
        "outputId": "d07d6b0e-5473-490a-c053-a1a283b1e7c7"
      },
      "source": [
        "with strategy.scope():\n",
        "\n",
        "    inception_model = tf.keras.applications.InceptionV3(input_shape=(256,256,3),pooling=\"avg\",include_top=False)\n",
        "\n",
        "    mix3  = inception_model.get_layer(\"mixed9\").output\n",
        "    f0 = tf.keras.layers.GlobalAveragePooling2D()(mix3)\n",
        "\n",
        "    inception_model = tf.keras.Model(inputs=inception_model.input, outputs=f0)\n",
        "    inception_model.trainable = False\n",
        "\n",
        "    def calculate_activation_statistics_mod(images,fid_model):\n",
        "\n",
        "            act=tf.cast(fid_model.predict(images), tf.float32)\n",
        "\n",
        "            mu = tf.reduce_mean(act, axis=0)\n",
        "            mean_x = tf.reduce_mean(act, axis=0, keepdims=True)\n",
        "            mx = tf.matmul(tf.transpose(mean_x), mean_x)\n",
        "            vx = tf.matmul(tf.transpose(act), act)/tf.cast(tf.shape(act)[0], tf.float32)\n",
        "            sigma = vx - mx\n",
        "            return mu, sigma\n",
        "    myFID_mu2, myFID_sigma2 = calculate_activation_statistics_mod(fid_monet_ds,inception_model)        \n",
        "    fids=[]"
      ],
      "execution_count": null,
      "outputs": [
        {
          "output_type": "stream",
          "text": [
            "Downloading data from https://storage.googleapis.com/tensorflow/keras-applications/inception_v3/inception_v3_weights_tf_dim_ordering_tf_kernels_notop.h5\n",
            "87916544/87910968 [==============================] - 1s 0us/step\n"
          ],
          "name": "stdout"
        }
      ]
    },
    {
      "cell_type": "code",
      "metadata": {
        "id": "s-Tl31xkSEi-"
      },
      "source": [
        "with strategy.scope():\n",
        "    def calculate_frechet_distance(mu1,sigma1,mu2,sigma2):\n",
        "        fid_epsilon = 1e-14\n",
        "       \n",
        "        covmean = tf.linalg.sqrtm(tf.cast(tf.matmul(sigma1,sigma2),tf.complex64))\n",
        "#         isgood=tf.cast(tf.math.is_finite(covmean), tf.int32)\n",
        "#         if tf.size(isgood)!=tf.math.reduce_sum(isgood):\n",
        "#             return 0\n",
        "\n",
        "        covmean = tf.cast(tf.math.real(covmean),tf.float32)\n",
        "        tr_covmean = tf.linalg.trace(covmean)\n",
        "\n",
        "        return tf.matmul(tf.expand_dims(mu1 - mu2, axis=0),tf.expand_dims(mu1 - mu2, axis=1)) + tf.linalg.trace(sigma1) + tf.linalg.trace(sigma2) - 2 * tr_covmean\n",
        "\n",
        "    def FID(images,gen_model,inception_model=inception_model,myFID_mu2=myFID_mu2, myFID_sigma2=myFID_sigma2):\n",
        "                inp = layers.Input(shape=[256, 256, 3], name='input_image')\n",
        "                x  = gen_model(inp)\n",
        "                x=inception_model(x)\n",
        "                fid_model = tf.keras.Model(inputs=inp, outputs=x)\n",
        "                mu1, sigma1= calculate_activation_statistics_mod(images,fid_model)\n",
        "                fid_value = calculate_frechet_distance(mu1, sigma1,myFID_mu2, myFID_sigma2)\n",
        "                return fid_value"
      ],
      "execution_count": null,
      "outputs": []
    },
    {
      "cell_type": "markdown",
      "metadata": {
        "id": "PWBzXZjMVaq3"
      },
      "source": [
        "#### Optimizerrs"
      ]
    },
    {
      "cell_type": "code",
      "metadata": {
        "id": "0RfphfGVSF91"
      },
      "source": [
        "with strategy.scope():\n",
        "    monet_generator_optimizer = tf.keras.optimizers.Adam(2e-4, beta_1=0.5)\n",
        "    photo_generator_optimizer = tf.keras.optimizers.Adam(2e-4, beta_1=0.5)\n",
        "\n",
        "    monet_discriminator_optimizer = tf.keras.optimizers.Adam(2e-4, beta_1=0.5)\n",
        "    photo_discriminator_optimizer = tf.keras.optimizers.Adam(2e-4, beta_1=0.5)"
      ],
      "execution_count": null,
      "outputs": []
    },
    {
      "cell_type": "markdown",
      "metadata": {
        "id": "q7UbyzrwXAf_"
      },
      "source": [
        "# Check Base Line Model Score - \"Before Optimizationd\n",
        "this is our starting point\n",
        "\n"
      ]
    },
    {
      "cell_type": "markdown",
      "metadata": {
        "id": "ORcoa9ikSGTi"
      },
      "source": [
        "#### BaseLineModel - 300 Monets"
      ]
    },
    {
      "cell_type": "code",
      "metadata": {
        "id": "4qVEkBETSJVn"
      },
      "source": [
        "%%script false \n",
        "\n",
        "with strategy.scope():\n",
        "\n",
        "    monet_generator = Generator() # transforms photos to Monet-esque paintings\n",
        "    photo_generator = Generator() # transforms Monet paintings to be more like photos\n",
        "    monet_discriminator = Discriminator() # differentiates real Monet paintings and generated Monet paintings\n",
        "    photo_discriminator = Discriminator() # differentiates real photos and generated photos\n",
        "\n",
        "    cycle_gan_model_base_model_full = CycleGan(\n",
        "        monet_generator, photo_generator, monet_discriminator, photo_discriminator\n",
        "    )\n",
        "\n",
        "    cycle_gan_model_base_model_full.compile(\n",
        "        m_gen_optimizer = monet_generator_optimizer,\n",
        "        p_gen_optimizer = photo_generator_optimizer,\n",
        "        m_disc_optimizer = monet_discriminator_optimizer,\n",
        "        p_disc_optimizer = photo_discriminator_optimizer,\n",
        "        gen_loss_fn = generator_loss,\n",
        "        disc_loss_fn = discriminator_loss,\n",
        "        cycle_loss_fn = calc_cycle_loss,\n",
        "        identity_loss_fn = identity_loss\n",
        "    )\n",
        "\n",
        "\n",
        "  \n",
        "# history includes loss\n",
        "# history_full_base_line = cycle_gan_model_base_model_full.fit(tf.data.Dataset.zip((monet_ds, photo_ds)), epochs=25)\n",
        "# print(history_full_base_line.history.keys())\n",
        "# fid score\n",
        "# final_model_score = FID(fid_photo_ds, monet_generator)\n",
        "# print(final_model_score)"
      ],
      "execution_count": null,
      "outputs": []
    },
    {
      "cell_type": "code",
      "metadata": {
        "id": "Utxv7mPL7Ag0"
      },
      "source": [
        "%%script false \n",
        "\n",
        "%%time\n",
        "fids=[]\n",
        "best_fid=999999999\n",
        "for epoch in range(1,48):\n",
        "\n",
        "    print(\"Epoch = \",epoch)\n",
        "    history_full_base_line=cycle_gan_model_base_model_full.fit(tf.data.Dataset.zip((monet_ds, photo_ds)), epochs=1).history\n",
        "#     disc_m_loss1.append(hist[\"monet_disc_loss1\"][0][0][0])\n",
        "#     disc_p_loss1.append(hist[\"photo_disc_loss1\"][0][0][0])\n",
        "    # if epoch>35:\n",
        "    cur_fid=FID(fid_photo_ds,monet_generator)\n",
        "    fids.append(cur_fid)\n",
        "    print(\"After epoch #{} FID = {}\\n\".format(epoch,cur_fid))\n",
        "    # if epoch>42:\n",
        "    #         best_fid=cur_fid\n",
        "            #monet_generator.save('monet_generator_'+str(epoch)+'.h5')"
      ],
      "execution_count": null,
      "outputs": []
    },
    {
      "cell_type": "code",
      "metadata": {
        "id": "RaGLXYam7hX_"
      },
      "source": [
        "%%script false \n",
        "\n",
        "\n",
        "plt.plot(np.array(fids).reshape(-1,), label='FID')\n",
        "\n",
        "plt.legend()\n",
        "plt.show()"
      ],
      "execution_count": null,
      "outputs": []
    },
    {
      "cell_type": "markdown",
      "metadata": {
        "id": "gmTPu0-zWwC2"
      },
      "source": [
        "#### BaseLineModel - 30 Monets"
      ]
    },
    {
      "cell_type": "code",
      "metadata": {
        "id": "XhoONJ5MWtzV"
      },
      "source": [
        "with strategy.scope():\n",
        "\n",
        "    monet_generator_30 = Generator() # transforms photos to Monet-esque paintings\n",
        "    photo_generator_30 = Generator() # transforms Monet paintings to be more like photos\n",
        "    monet_discriminator_30 = Discriminator() # differentiates real Monet paintings and generated Monet paintings\n",
        "    photo_discriminator_30 = Discriminator() # differentiates real photos and generated photos\n",
        "\n",
        "    cycle_gan_model_base_model_30 = CycleGan(\n",
        "        monet_generator_30, photo_generator_30, monet_discriminator_30, photo_discriminator_30\n",
        "    )\n",
        "\n",
        "    cycle_gan_model_base_model_30.compile(\n",
        "        m_gen_optimizer = monet_generator_optimizer,\n",
        "        p_gen_optimizer = photo_generator_optimizer,\n",
        "        m_disc_optimizer = monet_discriminator_optimizer,\n",
        "        p_disc_optimizer = photo_discriminator_optimizer,\n",
        "        gen_loss_fn = generator_loss,\n",
        "        disc_loss_fn = discriminator_loss,\n",
        "        cycle_loss_fn = calc_cycle_loss,\n",
        "        identity_loss_fn = identity_loss\n",
        "    )\n",
        "\n",
        "# history_base_line_30 = cycle_gan_model_base_model_30.fit(tf.data.Dataset.zip((monet_ds.take(30), photo_ds)), epochs=25)\n",
        "# print(history_base_line_30.history.keys())\n",
        "\n",
        "# final_model_score = FID(fid_photo_ds, monet_generator_30)\n",
        "# print(final_model_score)"
      ],
      "execution_count": null,
      "outputs": []
    },
    {
      "cell_type": "code",
      "metadata": {
        "id": "LF1NbRch7-p6",
        "colab": {
          "base_uri": "https://localhost:8080/"
        },
        "outputId": "ad08162a-9ba4-4537-d06e-f8462f52fdaa"
      },
      "source": [
        "%%time\n",
        "fids=[]\n",
        "best_fid=999999999\n",
        "for epoch in range(1,48):\n",
        "\n",
        "    print(\"Epoch = \",epoch)\n",
        "    history_base_line_30=cycle_gan_model_base_model_30.fit(tf.data.Dataset.zip((monet_ds.take(30), photo_ds)), epochs=1).history\n",
        "#     disc_m_loss1.append(hist[\"monet_disc_loss1\"][0][0][0])\n",
        "#     disc_p_loss1.append(hist[\"photo_disc_loss1\"][0][0][0])\n",
        "    # if epoch>35:\n",
        "    cur_fid=FID(fid_photo_ds,monet_generator_30)\n",
        "    fids.append(cur_fid)\n",
        "    print(\"After epoch #{} FID = {}\\n\".format(epoch,cur_fid))\n",
        "    # if epoch>42:\n",
        "    #         best_fid=cur_fid\n",
        "    #         #monet_generator.save('monet_generator_'+str(epoch)+'.h5')"
      ],
      "execution_count": null,
      "outputs": [
        {
          "output_type": "stream",
          "text": [
            "Epoch =  1\n",
            "30/30 [==============================] - 119s 168ms/step - monet_gen_loss: 10.5242 - photo_gen_loss: 11.1605 - monet_disc_loss: 0.6672 - photo_disc_loss: 0.6582\n",
            "After epoch #1 FID = [[18.403559]]\n",
            "\n",
            "Epoch =  2\n",
            "30/30 [==============================] - 5s 177ms/step - monet_gen_loss: 5.7432 - photo_gen_loss: 6.0283 - monet_disc_loss: 0.6809 - photo_disc_loss: 0.5989\n",
            "After epoch #2 FID = [[19.231411]]\n",
            "\n",
            "Epoch =  3\n",
            "30/30 [==============================] - 6s 180ms/step - monet_gen_loss: 5.2412 - photo_gen_loss: 5.5359 - monet_disc_loss: 0.6885 - photo_disc_loss: 0.5180\n",
            "After epoch #3 FID = [[18.78326]]\n",
            "\n",
            "Epoch =  4\n",
            "30/30 [==============================] - 6s 180ms/step - monet_gen_loss: 5.2092 - photo_gen_loss: 5.5288 - monet_disc_loss: 0.6511 - photo_disc_loss: 0.4900\n",
            "After epoch #4 FID = [[17.964016]]\n",
            "\n",
            "Epoch =  5\n",
            "30/30 [==============================] - 6s 181ms/step - monet_gen_loss: 5.0019 - photo_gen_loss: 5.1821 - monet_disc_loss: 0.6202 - photo_disc_loss: 0.5860\n",
            "After epoch #5 FID = [[17.2169]]\n",
            "\n",
            "Epoch =  6\n",
            "30/30 [==============================] - 6s 180ms/step - monet_gen_loss: 4.5347 - photo_gen_loss: 4.7072 - monet_disc_loss: 0.6906 - photo_disc_loss: 0.6972\n",
            "After epoch #6 FID = [[16.819897]]\n",
            "\n",
            "Epoch =  7\n",
            "30/30 [==============================] - 6s 181ms/step - monet_gen_loss: 4.2375 - photo_gen_loss: 4.3331 - monet_disc_loss: 0.6884 - photo_disc_loss: 0.6653\n",
            "After epoch #7 FID = [[16.523949]]\n",
            "\n",
            "Epoch =  8\n",
            "30/30 [==============================] - 6s 183ms/step - monet_gen_loss: 3.9883 - photo_gen_loss: 4.1083 - monet_disc_loss: 0.6757 - photo_disc_loss: 0.6161\n",
            "After epoch #8 FID = [[16.463211]]\n",
            "\n",
            "Epoch =  9\n",
            "30/30 [==============================] - 6s 184ms/step - monet_gen_loss: 3.8022 - photo_gen_loss: 3.9784 - monet_disc_loss: 0.6680 - photo_disc_loss: 0.5395\n",
            "After epoch #9 FID = [[16.380583]]\n",
            "\n",
            "Epoch =  10\n",
            "30/30 [==============================] - 6s 183ms/step - monet_gen_loss: 3.7260 - photo_gen_loss: 3.9509 - monet_disc_loss: 0.6606 - photo_disc_loss: 0.5552\n",
            "After epoch #10 FID = [[16.25886]]\n",
            "\n",
            "Epoch =  11\n",
            "30/30 [==============================] - 6s 181ms/step - monet_gen_loss: 3.6981 - photo_gen_loss: 3.9236 - monet_disc_loss: 0.6530 - photo_disc_loss: 0.5449\n",
            "After epoch #11 FID = [[16.142773]]\n",
            "\n",
            "Epoch =  12\n",
            "30/30 [==============================] - 6s 183ms/step - monet_gen_loss: 3.6729 - photo_gen_loss: 3.8925 - monet_disc_loss: 0.6450 - photo_disc_loss: 0.5453\n",
            "After epoch #12 FID = [[16.115868]]\n",
            "\n",
            "Epoch =  13\n",
            "30/30 [==============================] - 6s 183ms/step - monet_gen_loss: 3.6748 - photo_gen_loss: 3.8853 - monet_disc_loss: 0.6397 - photo_disc_loss: 0.5619\n",
            "After epoch #13 FID = [[16.08088]]\n",
            "\n",
            "Epoch =  14\n",
            "30/30 [==============================] - 6s 184ms/step - monet_gen_loss: 3.6829 - photo_gen_loss: 3.8454 - monet_disc_loss: 0.6368 - photo_disc_loss: 0.6206\n",
            "After epoch #14 FID = [[16.129196]]\n",
            "\n",
            "Epoch =  15\n",
            "30/30 [==============================] - 6s 185ms/step - monet_gen_loss: 3.6850 - photo_gen_loss: 3.8561 - monet_disc_loss: 0.6355 - photo_disc_loss: 0.5914\n",
            "After epoch #15 FID = [[16.037273]]\n",
            "\n",
            "Epoch =  16\n",
            "30/30 [==============================] - 6s 186ms/step - monet_gen_loss: 3.6543 - photo_gen_loss: 3.8391 - monet_disc_loss: 0.6373 - photo_disc_loss: 0.5905\n",
            "After epoch #16 FID = [[15.881653]]\n",
            "\n",
            "Epoch =  17\n",
            "30/30 [==============================] - 6s 185ms/step - monet_gen_loss: 3.6510 - photo_gen_loss: 3.7643 - monet_disc_loss: 0.6390 - photo_disc_loss: 0.6284\n",
            "After epoch #17 FID = [[15.675339]]\n",
            "\n",
            "Epoch =  18\n",
            "30/30 [==============================] - 6s 186ms/step - monet_gen_loss: 3.6382 - photo_gen_loss: 3.7836 - monet_disc_loss: 0.6405 - photo_disc_loss: 0.5774\n",
            "After epoch #18 FID = [[15.80764]]\n",
            "\n",
            "Epoch =  19\n",
            "30/30 [==============================] - 6s 185ms/step - monet_gen_loss: 3.6172 - photo_gen_loss: 3.8174 - monet_disc_loss: 0.6405 - photo_disc_loss: 0.5655\n",
            "After epoch #19 FID = [[15.798838]]\n",
            "\n",
            "Epoch =  20\n",
            "30/30 [==============================] - 6s 185ms/step - monet_gen_loss: 3.6068 - photo_gen_loss: 3.7871 - monet_disc_loss: 0.6388 - photo_disc_loss: 0.5624\n",
            "After epoch #20 FID = [[15.727661]]\n",
            "\n",
            "Epoch =  21\n",
            "30/30 [==============================] - 6s 184ms/step - monet_gen_loss: 3.6119 - photo_gen_loss: 3.7792 - monet_disc_loss: 0.6342 - photo_disc_loss: 0.5798\n",
            "After epoch #21 FID = [[15.584131]]\n",
            "\n",
            "Epoch =  22\n",
            "30/30 [==============================] - 6s 185ms/step - monet_gen_loss: 3.6128 - photo_gen_loss: 3.7499 - monet_disc_loss: 0.6343 - photo_disc_loss: 0.6118\n",
            "After epoch #22 FID = [[15.427429]]\n",
            "\n",
            "Epoch =  23\n",
            "30/30 [==============================] - 6s 184ms/step - monet_gen_loss: 3.6056 - photo_gen_loss: 3.8315 - monet_disc_loss: 0.6273 - photo_disc_loss: 0.5703\n",
            "After epoch #23 FID = [[15.41543]]\n",
            "\n",
            "Epoch =  24\n",
            "30/30 [==============================] - 6s 184ms/step - monet_gen_loss: 3.5737 - photo_gen_loss: 3.7768 - monet_disc_loss: 0.6229 - photo_disc_loss: 0.5605\n",
            "After epoch #24 FID = [[15.285082]]\n",
            "\n",
            "Epoch =  25\n",
            "30/30 [==============================] - 6s 185ms/step - monet_gen_loss: 3.5948 - photo_gen_loss: 3.7999 - monet_disc_loss: 0.6157 - photo_disc_loss: 0.5396\n",
            "After epoch #25 FID = [[15.23041]]\n",
            "\n",
            "Epoch =  26\n",
            "30/30 [==============================] - 6s 186ms/step - monet_gen_loss: 3.5855 - photo_gen_loss: 3.7409 - monet_disc_loss: 0.6103 - photo_disc_loss: 0.5670\n",
            "After epoch #26 FID = [[15.222843]]\n",
            "\n",
            "Epoch =  27\n",
            "30/30 [==============================] - 6s 185ms/step - monet_gen_loss: 3.5833 - photo_gen_loss: 3.7716 - monet_disc_loss: 0.6083 - photo_disc_loss: 0.5396\n",
            "After epoch #27 FID = [[15.283047]]\n",
            "\n",
            "Epoch =  28\n",
            "30/30 [==============================] - 6s 185ms/step - monet_gen_loss: 3.5761 - photo_gen_loss: 3.7902 - monet_disc_loss: 0.6089 - photo_disc_loss: 0.5334\n",
            "After epoch #28 FID = [[15.240326]]\n",
            "\n",
            "Epoch =  29\n",
            "30/30 [==============================] - 6s 186ms/step - monet_gen_loss: 3.5866 - photo_gen_loss: 3.7706 - monet_disc_loss: 0.6092 - photo_disc_loss: 0.5422\n",
            "After epoch #29 FID = [[15.318325]]\n",
            "\n",
            "Epoch =  30\n",
            "30/30 [==============================] - 6s 184ms/step - monet_gen_loss: 3.5435 - photo_gen_loss: 3.7601 - monet_disc_loss: 0.6092 - photo_disc_loss: 0.5364\n"
          ],
          "name": "stdout"
        }
      ]
    },
    {
      "cell_type": "code",
      "metadata": {
        "id": "WzCw6HhbXqNy"
      },
      "source": [
        "plt.plot(np.array(fids).reshape(-1,), label='FID')\n",
        "\n",
        "plt.legend()\n",
        "plt.show()"
      ],
      "execution_count": null,
      "outputs": []
    },
    {
      "cell_type": "code",
      "metadata": {
        "id": "cKuhyvfyOJ4-"
      },
      "source": [
        "while True: pass"
      ],
      "execution_count": null,
      "outputs": []
    },
    {
      "cell_type": "code",
      "metadata": {
        "id": "inMzsGtVhYxl"
      },
      "source": [
        "# summarize history for loss\n",
        "# monet_gen_loss = history.history['monet_gen_loss'][0]\n",
        "# photo_gen_loss = history.history['photo_gen_loss'][0]\n",
        "# monet_disc_loss = history.history['monet_disc_loss'][0]\n",
        "# photo_disc_loss = history.history['photo_disc_loss'][0]\n",
        "\n",
        "\n",
        "\n",
        "# plt.plot(monet_gen_loss.reshape(-1,))\n",
        "# plt.plot(photo_gen_loss.reshape(-1,))\n",
        "# plt.plot(monet_disc_loss.reshape(-1,))\n",
        "# plt.plot(photo_disc_loss.reshape(-1,))\n",
        "# plt.title('model loss')\n",
        "# plt.ylabel('loss')\n",
        "# plt.xlabel('epoch')\n",
        "# plt.legend(['monet_gen_loss', 'photo_gen_loss', 'monet_disc_loss', 'photo_disc_loss'], loc='upper left')\n",
        "# plt.show()"
      ],
      "execution_count": null,
      "outputs": []
    },
    {
      "cell_type": "markdown",
      "metadata": {
        "id": "jr9wu3wEyQQ1"
      },
      "source": [
        "#### Example Of Our Results - save for the last model? or impleent as every one"
      ]
    },
    {
      "cell_type": "code",
      "metadata": {
        "id": "QKbhg7LexP8o"
      },
      "source": [
        "_, ax = plt.subplots(5, 2, figsize=(12, 12))\n",
        "for i, img in enumerate(photo_ds.take(5)):\n",
        "    prediction = monet_generator(img, training=False)[0].numpy()\n",
        "    prediction = (prediction * 127.5 + 127.5).astype(np.uint8)\n",
        "    img = (img[0] * 127.5 + 127.5).numpy().astype(np.uint8)\n",
        "\n",
        "    ax[i, 0].imshow(img)\n",
        "    ax[i, 1].imshow(prediction)\n",
        "    ax[i, 0].set_title(\"Input Photo\")\n",
        "    ax[i, 1].set_title(\"Monet-esque\")\n",
        "    ax[i, 0].axis(\"off\")\n",
        "    ax[i, 1].axis(\"off\")\n",
        "plt.show()"
      ],
      "execution_count": null,
      "outputs": []
    },
    {
      "cell_type": "markdown",
      "metadata": {
        "id": "GFkSfzngXFkT"
      },
      "source": [
        "# Optimize Model\n",
        "Augmentation  \n",
        "Transfer  \n",
        "2-headed cycle gan  "
      ]
    },
    {
      "cell_type": "markdown",
      "metadata": {
        "id": "7I77ro0lXaHr"
      },
      "source": [
        "# Choose The Best 30 Images For The Optimized Model"
      ]
    },
    {
      "cell_type": "markdown",
      "metadata": {
        "id": "e3kCJNWwXRaY"
      },
      "source": [
        "# Save TensorFlow Model (H5)\n",
        "The Best Model With The Best Images After it has been trained"
      ]
    },
    {
      "cell_type": "code",
      "metadata": {
        "id": "CYjEnhDv0QLa"
      },
      "source": [
        "monet_generator.save('/content/monet_generator.h5')\n",
        "photo_generator.save('/content/photo_generator.h5')\n",
        "monet_discriminator.save('/content/monet_discriminator.h5')\n",
        "photo_discriminator.save('/content/photo_discriminator.h5')"
      ],
      "execution_count": null,
      "outputs": []
    }
  ]
}